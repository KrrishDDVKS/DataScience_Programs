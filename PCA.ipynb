{
 "cells": [
  {
   "cell_type": "code",
   "execution_count": 69,
   "id": "eddd4dd2-fd91-4ddf-9c68-ea4ca5934791",
   "metadata": {},
   "outputs": [],
   "source": [
    "import numpy as np"
   ]
  },
  {
   "cell_type": "code",
   "execution_count": 70,
   "id": "e18f54d7-d445-4f35-9c30-cff14202ad58",
   "metadata": {},
   "outputs": [],
   "source": [
    "a=np.array([[3,1,4],[9,4,5],[9,4,6]])\n",
    "b=np.array([3,6,9])"
   ]
  },
  {
   "cell_type": "code",
   "execution_count": 71,
   "id": "6956bdd0-2841-4fdb-a9f8-6d289e77a80f",
   "metadata": {},
   "outputs": [
    {
     "data": {
      "text/plain": [
       "2.9999999999999996"
      ]
     },
     "execution_count": 71,
     "metadata": {},
     "output_type": "execute_result"
    }
   ],
   "source": [
    "d=np.linalg.det(a)\n",
    "d"
   ]
  },
  {
   "cell_type": "markdown",
   "id": "ab85f92c-e1af-4215-ba23-037698b287fc",
   "metadata": {},
   "source": [
    "Determinant of a!=0 Hence, Inverse Exist. Rank(A)=3 Rank(AB)=3, Hence has a Solution."
   ]
  },
  {
   "cell_type": "code",
   "execution_count": 72,
   "id": "416dd32d-666a-403b-8bf1-383e09da7917",
   "metadata": {},
   "outputs": [
    {
     "data": {
      "text/plain": [
       "array([-9., 18.,  3.])"
      ]
     },
     "execution_count": 72,
     "metadata": {},
     "output_type": "execute_result"
    }
   ],
   "source": [
    "x=np.linalg.solve(a,b)\n",
    "x"
   ]
  },
  {
   "cell_type": "code",
   "execution_count": 73,
   "id": "711b3645-b16c-4ae5-8a02-0b01c8b91ba4",
   "metadata": {},
   "outputs": [
    {
     "data": {
      "text/plain": [
       "array([[2, 4, 6, 8],\n",
       "       [6, 6, 8, 8]])"
      ]
     },
     "execution_count": 73,
     "metadata": {},
     "output_type": "execute_result"
    }
   ],
   "source": [
    "a=np.array([[2,4,6,8],[6,6,8,8]])\n",
    "a"
   ]
  },
  {
   "cell_type": "code",
   "execution_count": 74,
   "id": "68f7a05a-6744-4eb5-a957-9ccbbcb5bc70",
   "metadata": {},
   "outputs": [
    {
     "data": {
      "text/plain": [
       "array([[-3, -1,  1,  3],\n",
       "       [-1, -1,  1,  1]])"
      ]
     },
     "execution_count": 74,
     "metadata": {},
     "output_type": "execute_result"
    }
   ],
   "source": [
    "a[0]=a[0]-a[0].mean()\n",
    "a[1]=a[1]-a[1].mean()\n",
    "#centered data in each row in matrix A\n",
    "a"
   ]
  },
  {
   "cell_type": "code",
   "execution_count": 75,
   "id": "a1f6fe7f-9255-43d3-979a-48da350aa51b",
   "metadata": {},
   "outputs": [
    {
     "data": {
      "text/plain": [
       "array([[20,  8],\n",
       "       [ 8,  4]])"
      ]
     },
     "execution_count": 75,
     "metadata": {},
     "output_type": "execute_result"
    }
   ],
   "source": [
    "# Co-Variance Matrix\n",
    "C=np.matmul(a,a.T)\n",
    "C"
   ]
  },
  {
   "cell_type": "code",
   "execution_count": 76,
   "id": "354f16b5-82a2-4017-99a8-fd9904528d07",
   "metadata": {},
   "outputs": [
    {
     "name": "stdout",
     "output_type": "stream",
     "text": [
      "Values: [23.3137085  0.6862915]\n",
      "Vectors: [[ 0.92387953 -0.38268343]\n",
      " [ 0.38268343  0.92387953]]\n"
     ]
    }
   ],
   "source": [
    "Values,Vectors=np.linalg.eig(C)\n",
    "print(f'Values: {Values}\\nVectors: {Vectors}')"
   ]
  },
  {
   "cell_type": "code",
   "execution_count": 77,
   "id": "8e25e1df-df7c-400d-9abd-f06774eb4b06",
   "metadata": {},
   "outputs": [
    {
     "data": {
      "text/plain": [
       "array([0.92387953, 0.38268343])"
      ]
     },
     "execution_count": 77,
     "metadata": {},
     "output_type": "execute_result"
    }
   ],
   "source": [
    "# First Principle component is of Large value of eigen Value\n",
    "First_PC=Vectors[:,0]\n",
    "First_PC"
   ]
  },
  {
   "cell_type": "code",
   "execution_count": 78,
   "id": "cb2c19e6-3745-486c-ad02-30d74bcc64ba",
   "metadata": {},
   "outputs": [
    {
     "data": {
      "text/plain": [
       "array([-3.15432203, -1.30656296,  1.30656296,  3.15432203])"
      ]
     },
     "execution_count": 78,
     "metadata": {},
     "output_type": "execute_result"
    }
   ],
   "source": [
    "# Reduced Data Matrix\n",
    "np.matmul(First_PC,a)"
   ]
  }
 ],
 "metadata": {
  "kernelspec": {
   "display_name": "Python 3 (ipykernel)",
   "language": "python",
   "name": "python3"
  },
  "language_info": {
   "codemirror_mode": {
    "name": "ipython",
    "version": 3
   },
   "file_extension": ".py",
   "mimetype": "text/x-python",
   "name": "python",
   "nbconvert_exporter": "python",
   "pygments_lexer": "ipython3",
   "version": "3.10.12"
  }
 },
 "nbformat": 4,
 "nbformat_minor": 5
}
