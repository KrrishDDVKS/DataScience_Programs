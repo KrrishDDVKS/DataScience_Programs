{
 "cells": [
  {
   "cell_type": "code",
   "execution_count": 22,
   "id": "95f03faf",
   "metadata": {
    "scrolled": true
   },
   "outputs": [
    {
     "name": "stdout",
     "output_type": "stream",
     "text": [
      "Requirement already satisfied: loess in c:\\users\\desaboina krishna sa\\anaconda3\\lib\\site-packages (2.1.2)\n",
      "Requirement already satisfied: numpy in c:\\users\\desaboina krishna sa\\anaconda3\\lib\\site-packages (from loess) (1.22.4)\n",
      "Requirement already satisfied: plotbin in c:\\users\\desaboina krishna sa\\anaconda3\\lib\\site-packages (from loess) (3.1.5)\n",
      "Requirement already satisfied: matplotlib in c:\\users\\desaboina krishna sa\\anaconda3\\lib\\site-packages (from loess) (3.4.3)\n",
      "Requirement already satisfied: pillow>=6.2.0 in c:\\users\\desaboina krishna sa\\anaconda3\\lib\\site-packages (from matplotlib->loess) (8.4.0)\n",
      "Requirement already satisfied: cycler>=0.10 in c:\\users\\desaboina krishna sa\\anaconda3\\lib\\site-packages (from matplotlib->loess) (0.10.0)\n",
      "Requirement already satisfied: kiwisolver>=1.0.1 in c:\\users\\desaboina krishna sa\\anaconda3\\lib\\site-packages (from matplotlib->loess) (1.3.1)\n",
      "Requirement already satisfied: python-dateutil>=2.7 in c:\\users\\desaboina krishna sa\\anaconda3\\lib\\site-packages (from matplotlib->loess) (2.8.2)\n",
      "Requirement already satisfied: pyparsing>=2.2.1 in c:\\users\\desaboina krishna sa\\anaconda3\\lib\\site-packages (from matplotlib->loess) (3.0.4)\n",
      "Requirement already satisfied: six in c:\\users\\desaboina krishna sa\\anaconda3\\lib\\site-packages (from cycler>=0.10->matplotlib->loess) (1.16.0)\n",
      "Requirement already satisfied: scipy in c:\\users\\desaboina krishna sa\\anaconda3\\lib\\site-packages (from plotbin->loess) (1.7.1)\n"
     ]
    }
   ],
   "source": [
    "!pip install loess\n",
    "from loess.loess_2d import loess_2d as l2\n",
    "import pandas as pd\n",
    "import numpy as np\n",
    "from sklearn.linear_model import LinearRegression as l"
   ]
  },
  {
   "cell_type": "code",
   "execution_count": 23,
   "id": "1c7293cf",
   "metadata": {},
   "outputs": [],
   "source": [
    "Z=[1,0,1,4,3,2,5,6,9,13,15,16]\n",
    "z=np.array(Z)"
   ]
  },
  {
   "cell_type": "code",
   "execution_count": 24,
   "id": "d0652040",
   "metadata": {},
   "outputs": [],
   "source": [
    "X=[[1,1],\n",
    "[2,1],\n",
    "[2,2],\n",
    "[3,2],\n",
    "[5,4],\n",
    "[5,6],\n",
    "[6,5],\n",
    "[7,4],\n",
    "[10,8],\n",
    "[11,7],\n",
    "[11,9],\n",
    "[12,10]]"
   ]
  },
  {
   "cell_type": "code",
   "execution_count": 25,
   "id": "ab9e0952",
   "metadata": {},
   "outputs": [],
   "source": [
    "X1=pd.DataFrame(X)\n",
    "x=X1.iloc[0:13][0].values\n",
    "y=X1.iloc[0:13][1].values"
   ]
  },
  {
   "cell_type": "code",
   "execution_count": 26,
   "id": "cd2cf700",
   "metadata": {},
   "outputs": [],
   "source": [
    "#from skmisc import loess\n",
    "from skmisc.loess import loess"
   ]
  },
  {
   "cell_type": "markdown",
   "id": "19602aab",
   "metadata": {},
   "source": [
    "WLS by following Variance formula in the Link Below link\n",
    "https://math.stackexchange.com/questions/3997343/how-to-calculate-the-variance-of-the-error-term-in-least-squares-method-for-simp"
   ]
  },
  {
   "cell_type": "code",
   "execution_count": 27,
   "id": "bb77393f",
   "metadata": {},
   "outputs": [
    {
     "data": {
      "text/plain": [
       "array([ 0.15816794,  1.26175196,  4.76667098,  3.53781019,  3.2108452 ,\n",
       "        2.32615925,  6.7806428 ,  4.76667098, 11.30364892, 12.66442148,\n",
       "       12.86530323, 16.48432032])"
      ]
     },
     "execution_count": 27,
     "metadata": {},
     "output_type": "execute_result"
    }
   ],
   "source": [
    "lm=loess(X,Z,degree=2,span=0.9)\n",
    "lm.fit()\n",
    "SZ=lm.predict(X)\n",
    "sz=SZ.values\n",
    "sz"
   ]
  },
  {
   "cell_type": "code",
   "execution_count": 28,
   "id": "c2382005",
   "metadata": {},
   "outputs": [
    {
     "data": {
      "text/plain": [
       "0    28.332893\n",
       "Name: std, dtype: float64"
      ]
     },
     "execution_count": 28,
     "metadata": {},
     "output_type": "execute_result"
    }
   ],
   "source": [
    "dfz=pd.DataFrame(sz)\n",
    "pro=dfz.describe()\n",
    "std=pro.loc['std']\n",
    "var=std**2\n",
    "var"
   ]
  },
  {
   "cell_type": "code",
   "execution_count": 29,
   "id": "f3de7213",
   "metadata": {},
   "outputs": [],
   "source": [
    "n=len(sz)\n",
    "mean = sum(sz)/n\n",
    "SSX=sum((j - mean) ** 2 for j in sz)\n",
    "variance = SSX/(n - 1)\n",
    "vari=[]"
   ]
  },
  {
   "cell_type": "code",
   "execution_count": 30,
   "id": "58d3346d",
   "metadata": {
    "scrolled": true
   },
   "outputs": [
    {
     "data": {
      "text/plain": [
       "28.332892715855007"
      ]
     },
     "execution_count": 30,
     "metadata": {},
     "output_type": "execute_result"
    }
   ],
   "source": [
    "variance"
   ]
  },
  {
   "cell_type": "code",
   "execution_count": 31,
   "id": "a55d37b0",
   "metadata": {},
   "outputs": [
    {
     "name": "stdout",
     "output_type": "stream",
     "text": [
      "22.108382559942395\n",
      "23.305719285183606\n",
      "25.639988746610513\n",
      "25.075838748229184\n",
      "24.879488936503233\n",
      "24.250766937309322\n",
      "25.970845578856284\n",
      "25.639988746610513\n",
      "24.02599838042832\n",
      "22.71301761305012\n",
      "22.490672148954683\n",
      "17.228219476871885\n"
     ]
    },
    {
     "data": {
      "text/plain": [
       "array([0.04523171, 0.04290792, 0.03900158, 0.03987902, 0.04019375,\n",
       "       0.04123581, 0.03850471, 0.03900158, 0.04162158, 0.04402762,\n",
       "       0.04446288, 0.0580443 ])"
      ]
     },
     "execution_count": 31,
     "metadata": {},
     "output_type": "execute_result"
    }
   ],
   "source": [
    "for i in sz:\n",
    "    print(variance*(1-1/n-(i - mean) ** 2/SSX))\n",
    "    vari.append(variance*(1-1/n-(i - mean) ** 2/SSX))\n",
    "w=1/np.array(vari)\n",
    "w"
   ]
  },
  {
   "cell_type": "code",
   "execution_count": 32,
   "id": "e3493880",
   "metadata": {},
   "outputs": [
    {
     "data": {
      "text/plain": [
       "0.9105551257542451"
      ]
     },
     "execution_count": 32,
     "metadata": {},
     "output_type": "execute_result"
    }
   ],
   "source": [
    "lr=l()\n",
    "lr.fit(X,Z,w)\n",
    "lr.score(X,Z,w)"
   ]
  },
  {
   "cell_type": "code",
   "execution_count": 33,
   "id": "c0dba029",
   "metadata": {},
   "outputs": [
    {
     "data": {
      "text/plain": [
       "array([9.65088209e-01, 9.57990448e-01, 9.71067072e-01, 5.13444002e-04,\n",
       "       8.67004370e-01, 9.99960021e-01, 9.75107276e-01, 9.98419812e-01,\n",
       "       7.05988023e-01, 9.99733809e-01, 6.53100372e-01, 9.81682826e-01])"
      ]
     },
     "execution_count": 33,
     "metadata": {},
     "output_type": "execute_result"
    }
   ],
   "source": [
    "# Using Vector_2d function\n",
    "f, w = l2(x,y,z,degree=2,frac=0.9)\n",
    "w"
   ]
  },
  {
   "cell_type": "code",
   "execution_count": 34,
   "id": "725156a8",
   "metadata": {},
   "outputs": [
    {
     "data": {
      "text/plain": [
       "array([ 0.68788848,  0.17014385,  1.27703405,  1.20017764,  3.54770212,\n",
       "        2.02871299,  4.4001736 ,  6.1186468 , 10.55999884, 12.95259598,\n",
       "       13.17149626, 16.39613027])"
      ]
     },
     "execution_count": 34,
     "metadata": {},
     "output_type": "execute_result"
    }
   ],
   "source": [
    "f"
   ]
  },
  {
   "cell_type": "markdown",
   "id": "b17c2ff6",
   "metadata": {},
   "source": [
    "Weighted Linear Regression"
   ]
  },
  {
   "cell_type": "code",
   "execution_count": 35,
   "id": "119dc5cc",
   "metadata": {},
   "outputs": [
    {
     "name": "stdout",
     "output_type": "stream",
     "text": [
      "R2 of WLS: 0.9206028948204623\n"
     ]
    }
   ],
   "source": [
    "lr=l()\n",
    "lr.fit(X,Z,w)\n",
    "r=lr.score(X,Z,w)\n",
    "print(f'R2 of WLS: {r}')\n",
    "y_w=lr.predict(X)\n",
    "y_w=pd.DataFrame(y_w)\n",
    "pro=y_w.describe()"
   ]
  },
  {
   "cell_type": "code",
   "execution_count": 36,
   "id": "a9e89c05",
   "metadata": {},
   "outputs": [
    {
     "name": "stdout",
     "output_type": "stream",
     "text": [
      "Standard Error of WLS: 0    1.601902\n",
      "Name: std, dtype: float64\n"
     ]
    }
   ],
   "source": [
    "#Standard Error\n",
    "std=pro.loc['std']\n",
    "e=std/n**(1/2)\n",
    "print(f'Standard Error of WLS: {e}')"
   ]
  },
  {
   "cell_type": "code",
   "execution_count": 37,
   "id": "902135ea",
   "metadata": {},
   "outputs": [
    {
     "name": "stdout",
     "output_type": "stream",
     "text": [
      "adjusted R-square of WLS: 0.9029590936694539\n"
     ]
    }
   ],
   "source": [
    "#adjusted R-square\n",
    "print(f'adjusted R-square of WLS: {1-(1-r)*(n-1)/(n-2-1)}')"
   ]
  },
  {
   "cell_type": "markdown",
   "id": "723ea691",
   "metadata": {},
   "source": [
    "Linear Regression"
   ]
  },
  {
   "cell_type": "code",
   "execution_count": 38,
   "id": "d9ce45fa",
   "metadata": {},
   "outputs": [
    {
     "name": "stdout",
     "output_type": "stream",
     "text": [
      "R2 of OLS: 0.903737802561535\n"
     ]
    }
   ],
   "source": [
    "#R2 Value\n",
    "lr=l()\n",
    "lr.fit(X,Z)\n",
    "r=lr.score(X,Z)\n",
    "print(f'R2 of OLS: {r}')\n",
    "y_o=lr.predict(X)\n",
    "y_o=pd.DataFrame(y_o)\n",
    "pro=y_o.describe()"
   ]
  },
  {
   "cell_type": "code",
   "execution_count": 39,
   "id": "a14c7669",
   "metadata": {},
   "outputs": [
    {
     "name": "stdout",
     "output_type": "stream",
     "text": [
      "Standard Error of OLS: 0    1.557361\n",
      "Name: std, dtype: float64\n"
     ]
    }
   ],
   "source": [
    "#Standard Error\n",
    "std=pro.loc['std']\n",
    "e=std/len(y_w)**(1/2)\n",
    "print(f'Standard Error of OLS: {e}')"
   ]
  },
  {
   "cell_type": "code",
   "execution_count": 40,
   "id": "36825ff9",
   "metadata": {},
   "outputs": [
    {
     "name": "stdout",
     "output_type": "stream",
     "text": [
      "adjusted R-square of OLS: 0.8823462031307651\n"
     ]
    }
   ],
   "source": [
    "#adjusted R-square\n",
    "print(f'adjusted R-square of OLS: {1-(1-r)*(n-1)/(n-2-1)}')"
   ]
  },
  {
   "cell_type": "code",
   "execution_count": 41,
   "id": "a2f36437",
   "metadata": {},
   "outputs": [
    {
     "ename": "ValueError",
     "evalue": "b'Chernobyl! trL>n 14.01'",
     "output_type": "error",
     "traceback": [
      "\u001b[1;31m---------------------------------------------------------------------------\u001b[0m",
      "\u001b[1;31mValueError\u001b[0m                                Traceback (most recent call last)",
      "\u001b[1;32mC:\\Users\\DESABO~1\\AppData\\Local\\Temp/ipykernel_19796/2129464581.py\u001b[0m in \u001b[0;36m<module>\u001b[1;34m\u001b[0m\n\u001b[0;32m     13\u001b[0m [12,10,2]]\n\u001b[0;32m     14\u001b[0m \u001b[0mlm\u001b[0m\u001b[1;33m=\u001b[0m\u001b[0mloess\u001b[0m\u001b[1;33m(\u001b[0m\u001b[0mX1\u001b[0m\u001b[1;33m,\u001b[0m\u001b[0mZ\u001b[0m\u001b[1;33m,\u001b[0m\u001b[0mdegree\u001b[0m\u001b[1;33m=\u001b[0m\u001b[1;36m2\u001b[0m\u001b[1;33m,\u001b[0m\u001b[0mspan\u001b[0m\u001b[1;33m=\u001b[0m\u001b[1;36m0.9\u001b[0m\u001b[1;33m)\u001b[0m\u001b[1;33m\u001b[0m\u001b[1;33m\u001b[0m\u001b[0m\n\u001b[1;32m---> 15\u001b[1;33m \u001b[0mlm\u001b[0m\u001b[1;33m.\u001b[0m\u001b[0mfit\u001b[0m\u001b[1;33m(\u001b[0m\u001b[1;33m)\u001b[0m\u001b[1;33m\u001b[0m\u001b[1;33m\u001b[0m\u001b[0m\n\u001b[0m\u001b[0;32m     16\u001b[0m \u001b[0mSZ\u001b[0m\u001b[1;33m=\u001b[0m\u001b[0mlm\u001b[0m\u001b[1;33m.\u001b[0m\u001b[0mpredict\u001b[0m\u001b[1;33m(\u001b[0m\u001b[0mX\u001b[0m\u001b[1;33m)\u001b[0m\u001b[1;33m\u001b[0m\u001b[1;33m\u001b[0m\u001b[0m\n\u001b[0;32m     17\u001b[0m \u001b[0msz\u001b[0m\u001b[1;33m=\u001b[0m\u001b[0mSZ\u001b[0m\u001b[1;33m.\u001b[0m\u001b[0mvalues\u001b[0m\u001b[1;33m\u001b[0m\u001b[1;33m\u001b[0m\u001b[0m\n",
      "\u001b[1;32m_loess.pyx\u001b[0m in \u001b[0;36m_loess.loess.fit\u001b[1;34m()\u001b[0m\n",
      "\u001b[1;31mValueError\u001b[0m: b'Chernobyl! trL>n 14.01'"
     ]
    }
   ],
   "source": [
    "# Trying for more than two features whether the skmisc will work or not.\n",
    "X1=[[1,1,1],\n",
    "[2,1,1],\n",
    "[2,2,2],\n",
    "[3,2,3],\n",
    "[5,4,4],\n",
    "[5,6,5],\n",
    "[6,5,6],\n",
    "[7,4,7],\n",
    "[10,8,1],\n",
    "[11,7,1],\n",
    "[11,9,2],\n",
    "[12,10,2]]\n",
    "lm=loess(X1,Z,degree=2,span=0.9)\n",
    "lm.fit()\n",
    "SZ=lm.predict(X)\n",
    "sz=SZ.values\n",
    "sz\n",
    "#Even LOESS in skmisc also doesn't support more than two features."
   ]
  },
  {
   "cell_type": "code",
   "execution_count": 42,
   "id": "ca16a693",
   "metadata": {},
   "outputs": [
    {
     "data": {
      "text/plain": [
       "array([[ 1,  2,  2,  3,  5,  5,  6,  7, 10, 11, 11, 12],\n",
       "       [ 1,  1,  2,  2,  4,  6,  5,  4,  8,  7,  9, 10]])"
      ]
     },
     "execution_count": 42,
     "metadata": {},
     "output_type": "execute_result"
    }
   ],
   "source": [
    "d=np.transpose(X)\n",
    "d"
   ]
  },
  {
   "cell_type": "markdown",
   "id": "3fc8bdc9",
   "metadata": {},
   "source": [
    "Covariance Matrix"
   ]
  },
  {
   "cell_type": "code",
   "execution_count": 43,
   "id": "0666b142",
   "metadata": {},
   "outputs": [
    {
     "data": {
      "text/plain": [
       "array([[15.47727273, 11.65909091],\n",
       "       [11.65909091,  9.71969697]])"
      ]
     },
     "execution_count": 43,
     "metadata": {},
     "output_type": "execute_result"
    }
   ],
   "source": [
    "cov_matrix = np.cov(d)\n",
    "cov_matrix"
   ]
  },
  {
   "cell_type": "code",
   "execution_count": null,
   "id": "45ba0347",
   "metadata": {},
   "outputs": [],
   "source": []
  }
 ],
 "metadata": {
  "kernelspec": {
   "display_name": "Python 3 (ipykernel)",
   "language": "python",
   "name": "python3"
  },
  "language_info": {
   "codemirror_mode": {
    "name": "ipython",
    "version": 3
   },
   "file_extension": ".py",
   "mimetype": "text/x-python",
   "name": "python",
   "nbconvert_exporter": "python",
   "pygments_lexer": "ipython3",
   "version": "3.9.7"
  }
 },
 "nbformat": 4,
 "nbformat_minor": 5
}
