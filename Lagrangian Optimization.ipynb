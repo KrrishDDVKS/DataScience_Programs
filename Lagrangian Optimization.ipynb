{
 "cells": [
  {
   "cell_type": "code",
   "execution_count": 521,
   "id": "591dc337-f08b-4384-9677-2641be86634c",
   "metadata": {},
   "outputs": [],
   "source": [
    "import numpy as np\n",
    "import math\n",
    "from scipy.interpolate import make_interp_spline\n",
    "import matplotlib.pyplot as plt"
   ]
  },
  {
   "cell_type": "code",
   "execution_count": 522,
   "id": "351f85eb-905d-4e4b-b2b1-7d927ddb7563",
   "metadata": {},
   "outputs": [],
   "source": [
    "coin=[1, 5, 10, 25, 50, 100]\n",
    "cx=np.array(coin)\n",
    "mean=10.3828"
   ]
  },
  {
   "cell_type": "code",
   "execution_count": 523,
   "id": "1b365545-dee5-4812-a5f8-386f262841e3",
   "metadata": {},
   "outputs": [],
   "source": [
    "alpha=[-1,0]\n",
    "t=0"
   ]
  },
  {
   "cell_type": "code",
   "execution_count": 524,
   "id": "750a4224-c5d1-439e-9a7d-3cad9783edc9",
   "metadata": {},
   "outputs": [],
   "source": [
    "def fn(x):    \n",
    "    ax=x*cx\n",
    "    g=math.e**ax\n",
    "    p=g/sum(g)\n",
    "    px=cx*p\n",
    "    s=sum(px)\n",
    "    f=mean-s\n",
    "    return(f)"
   ]
  },
  {
   "cell_type": "code",
   "execution_count": 525,
   "id": "3d464eb1-877a-4b30-86b5-1f12d86567af",
   "metadata": {},
   "outputs": [
    {
     "data": {
      "text/plain": [
       "-0.037732955895241005"
      ]
     },
     "execution_count": 525,
     "metadata": {},
     "output_type": "execute_result"
    }
   ],
   "source": [
    "while t<100:\n",
    "    a0=sum(alpha)/2\n",
    "    if fn(a0)*fn(alpha[0])<0:\n",
    "        alpha[1]=a0\n",
    "    else:\n",
    "        alpha[0]=a0   \n",
    "    t+=1\n",
    "a0"
   ]
  },
  {
   "cell_type": "markdown",
   "id": "2b13612d-a648-4837-bc19-782c8546295a",
   "metadata": {},
   "source": [
    "Verification"
   ]
  },
  {
   "cell_type": "code",
   "execution_count": 539,
   "id": "f27e8de5-5998-470a-833a-2517f1d463cf",
   "metadata": {},
   "outputs": [],
   "source": [
    "x=np.arange(-5,1,0.05)\n",
    "y=[]\n",
    "for i in x:\n",
    "    y.append(fn(i))"
   ]
  },
  {
   "cell_type": "code",
   "execution_count": 541,
   "id": "80928955-bf56-4cc6-be9c-1736a1515841",
   "metadata": {},
   "outputs": [
    {
     "data": {
      "text/plain": [
       "[<matplotlib.lines.Line2D at 0x7f05d7f96410>]"
      ]
     },
     "execution_count": 541,
     "metadata": {},
     "output_type": "execute_result"
    },
    {
     "data": {
      "image/png": "[encoded data removed]",
      "text/plain": [
       "<Figure size 640x480 with 1 Axes>"
      ]
     },
     "metadata": {},
     "output_type": "display_data"
    }
   ],
   "source": [
    "X_Y_Spline = make_interp_spline(x, y)\n",
    "X_ = np.linspace(x.min(), x.max(), 500)\n",
    "Y_ = X_Y_Spline(X_)\n",
    "plt.plot(X_, Y_)\n",
    "plt.plot(a0,fn(a0),'r+')"
   ]
  },
  {
   "cell_type": "code",
   "execution_count": 528,
   "id": "840a2eb4-23e0-4023-8652-a9c48917dba9",
   "metadata": {},
   "outputs": [
    {
     "data": {
      "text/plain": [
       "-0.00666488990141012"
      ]
     },
     "execution_count": 528,
     "metadata": {},
     "output_type": "execute_result"
    }
   ],
   "source": [
    "fn(-0.0377)"
   ]
  },
  {
   "cell_type": "markdown",
   "id": "b10d7daa-47f0-461b-ab5b-a1787390383d",
   "metadata": {},
   "source": [
    "Difference between Estimated and Actual Mean is no larger than .01"
   ]
  },
  {
   "cell_type": "code",
   "execution_count": 529,
   "id": "db5f9459-8862-4864-b8a7-b0e565d3c12b",
   "metadata": {},
   "outputs": [
    {
     "data": {
      "text/plain": [
       "8.913311424052495e-06"
      ]
     },
     "execution_count": 529,
     "metadata": {},
     "output_type": "execute_result"
    }
   ],
   "source": [
    "fn(-0.037733)"
   ]
  },
  {
   "cell_type": "code",
   "execution_count": 530,
   "id": "cc68b71c-b99e-4d97-9ba0-dc440d4c043e",
   "metadata": {},
   "outputs": [
    {
     "data": {
      "text/plain": [
       "-7.105427357601002e-15"
      ]
     },
     "execution_count": 530,
     "metadata": {},
     "output_type": "execute_result"
    }
   ],
   "source": [
    "fn(-0.037732955895241005)"
   ]
  },
  {
   "cell_type": "markdown",
   "id": "7df05025-3ab6-40ff-ab3b-2156fe2c5a8e",
   "metadata": {},
   "source": [
    " Estimated optimal probabilities"
   ]
  },
  {
   "cell_type": "code",
   "execution_count": 544,
   "id": "32dc7753-41eb-4f27-80ee-61ea1dd29f22",
   "metadata": {},
   "outputs": [
    {
     "data": {
      "text/plain": [
       "array([0.31670281, 0.27233475, 0.22551061, 0.12804386, 0.04985152,\n",
       "       0.00755645])"
      ]
     },
     "execution_count": 544,
     "metadata": {},
     "output_type": "execute_result"
    }
   ],
   "source": [
    "ax=a0*cx\n",
    "g=math.e**ax\n",
    "p=g/sum(g)\n",
    "p"
   ]
  },
  {
   "cell_type": "markdown",
   "id": "4a38c345-4479-46b6-855b-19b0b5f0486d",
   "metadata": {},
   "source": [
    "Estimated Mean"
   ]
  },
  {
   "cell_type": "code",
   "execution_count": 545,
   "id": "fac7870d-17f9-46e2-8340-14a343b11e08",
   "metadata": {},
   "outputs": [
    {
     "data": {
      "text/plain": [
       "10.382800000000007"
      ]
     },
     "execution_count": 545,
     "metadata": {},
     "output_type": "execute_result"
    }
   ],
   "source": [
    "px=cx*p\n",
    "s=sum(px)\n",
    "s"
   ]
  },
  {
   "cell_type": "markdown",
   "id": "e1ca5dce-fd15-44af-8e4c-73d919b487e3",
   "metadata": {},
   "source": [
    "Difference between Estimated and Actual Mean"
   ]
  },
  {
   "cell_type": "code",
   "execution_count": 546,
   "id": "88de5d64-e0be-44fe-b2fc-2cc96fc34e21",
   "metadata": {},
   "outputs": [
    {
     "data": {
      "text/plain": [
       "-7.105427357601002e-15"
      ]
     },
     "execution_count": 546,
     "metadata": {},
     "output_type": "execute_result"
    }
   ],
   "source": [
    "mean-s"
   ]
  }
 ],
 "metadata": {
  "kernelspec": {
   "display_name": "Python 3 (ipykernel)",
   "language": "python",
   "name": "python3"
  },
  "language_info": {
   "codemirror_mode": {
    "name": "ipython",
    "version": 3
   },
   "file_extension": ".py",
   "mimetype": "text/x-python",
   "name": "python",
   "nbconvert_exporter": "python",
   "pygments_lexer": "ipython3",
   "version": "3.10.12"
  }
 },
 "nbformat": 4,
 "nbformat_minor": 5
}
