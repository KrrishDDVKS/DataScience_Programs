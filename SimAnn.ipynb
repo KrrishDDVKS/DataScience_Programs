{
 "cells": [
  {
   "cell_type": "code",
   "execution_count": 326,
   "id": "12f3d9c4-5596-4e77-83d3-3f544ffaff95",
   "metadata": {},
   "outputs": [],
   "source": [
    "import numpy as np\n",
    "import math\n",
    "import random\n",
    "from scipy.interpolate import make_interp_spline\n",
    "import matplotlib.pyplot as plt"
   ]
  },
  {
   "cell_type": "code",
   "execution_count": 327,
   "id": "ebc50169-0df9-4d85-a330-3d5cd9e4b0fe",
   "metadata": {},
   "outputs": [],
   "source": [
    "def fn(x):\n",
    "    y=-math.exp(x**2/100)*math.sin(13*x - x**4)**5*math.sin(1 - 3*x**2)**2\n",
    "    return y"
   ]
  },
  {
   "cell_type": "code",
   "execution_count": 328,
   "id": "641fcdab-d114-4746-87b5-dadc85a6a4ea",
   "metadata": {},
   "outputs": [],
   "source": [
    "x=np.arange(-2,2,0.05)\n",
    "y=[]\n",
    "for i in x:\n",
    "    y.append(fn(i))"
   ]
  },
  {
   "cell_type": "code",
   "execution_count": 329,
   "id": "08b2ee2f-b851-4590-a71e-90507ededc03",
   "metadata": {},
   "outputs": [],
   "source": [
    "def N():\n",
    "    n=random.uniform(-2,2)\n",
    "    return(n)"
   ]
  },
  {
   "cell_type": "code",
   "execution_count": 330,
   "id": "b6bdc794-072c-4377-babc-0542048d0b0f",
   "metadata": {},
   "outputs": [],
   "source": [
    "def Tp(c,n,T,fn):\n",
    "    if fn(n)<fn(c):\n",
    "        return(1.0)\n",
    "    else:\n",
    "        DE=fn(c)-fn(n)\n",
    "        x=DE/T\n",
    "        p=math.exp(x)\n",
    "        return(p)"
   ]
  },
  {
   "cell_type": "code",
   "execution_count": 331,
   "id": "0ddf2a95-4f96-4f80-adb8-3570953ab373",
   "metadata": {},
   "outputs": [],
   "source": [
    "def simAnn(fn):\n",
    "    c=0\n",
    "    b=c\n",
    "    bf=fn(b)\n",
    "    T=0.00001\n",
    "    cooling_rate=0.001\n",
    "    while T>0.0000001:\n",
    "        for n0 in range(0,1000000):\n",
    "            n=N()\n",
    "            nf=fn(n)\n",
    "            p=Tp(c,n,T,fn)\n",
    "            if p>random.random():\n",
    "                c=n\n",
    "                cf=nf\n",
    "            if nf<bf:\n",
    "                bf=nf\n",
    "                b=n\n",
    "        T*=cooling_rate\n",
    "    return(b,bf)"
   ]
  },
  {
   "cell_type": "code",
   "execution_count": 332,
   "id": "bd6af404",
   "metadata": {},
   "outputs": [
    {
     "data": {
      "text/plain": [
       "(1.3656886835017845, -0.9579456035176046)"
      ]
     },
     "execution_count": 332,
     "metadata": {},
     "output_type": "execute_result"
    }
   ],
   "source": [
    "simAnn(fn)"
   ]
  },
  {
   "cell_type": "markdown",
   "id": "5ace794b",
   "metadata": {},
   "source": [
    "Verification"
   ]
  },
  {
   "cell_type": "code",
   "execution_count": 333,
   "id": "5ce13f7c-ac08-4168-a008-660f3152aff1",
   "metadata": {},
   "outputs": [
    {
     "data": {
      "text/plain": [
       "[<matplotlib.lines.Line2D at 0x233d14b6c10>]"
      ]
     },
     "execution_count": 333,
     "metadata": {},
     "output_type": "execute_result"
    },
    {
     "data": {
      "image/png": "[encoded data removed]",
      "text/plain": [
       "<Figure size 432x288 with 1 Axes>"
      ]
     },
     "metadata": {
      "needs_background": "light"
     },
     "output_type": "display_data"
    }
   ],
   "source": [
    "X_Y_Spline = make_interp_spline(x, y)\n",
    "X_ = np.linspace(x.min(), x.max(), 500)\n",
    "Y_ = X_Y_Spline(X_)\n",
    "plt.plot(X_, Y_)\n",
    "c,fc=simAnn(fn)\n",
    "plt.plot(c,fc,'r+')"
   ]
  },
  {
   "cell_type": "markdown",
   "id": "c57676e8",
   "metadata": {},
   "source": [
    "Coin Probability"
   ]
  },
  {
   "cell_type": "code",
   "execution_count": 334,
   "id": "7bb64933-71c2-4c2a-a25e-8ea06c8f385e",
   "metadata": {},
   "outputs": [],
   "source": [
    "def fnc(x):    \n",
    "    ax=x*cx\n",
    "    g=math.e**ax\n",
    "    p=g/sum(g)\n",
    "    px=cx*p\n",
    "    s=sum(px)\n",
    "    f=abs(mean-s)\n",
    "    return(f)"
   ]
  },
  {
   "cell_type": "code",
   "execution_count": 335,
   "id": "640b04e4",
   "metadata": {},
   "outputs": [],
   "source": [
    "coin=[1, 5, 10, 25, 50, 100]\n",
    "cx=np.array(coin)\n",
    "mean=10.3828"
   ]
  },
  {
   "cell_type": "code",
   "execution_count": 336,
   "id": "042211c6",
   "metadata": {},
   "outputs": [],
   "source": [
    "alpha=[-1,0]\n",
    "t=0"
   ]
  },
  {
   "cell_type": "code",
   "execution_count": 337,
   "id": "f2fced37",
   "metadata": {},
   "outputs": [
    {
     "data": {
      "text/plain": [
       "(-0.03773222090348005, 0.0001485399682028543)"
      ]
     },
     "execution_count": 337,
     "metadata": {},
     "output_type": "execute_result"
    }
   ],
   "source": [
    "#Coin\n",
    "a0=simAnn(fnc)\n",
    "a0"
   ]
  },
  {
   "cell_type": "markdown",
   "id": "d9588864",
   "metadata": {},
   "source": [
    "Estimated optimal probabilities"
   ]
  },
  {
   "cell_type": "code",
   "execution_count": 338,
   "id": "78d4cb3e",
   "metadata": {},
   "outputs": [
    {
     "data": {
      "text/plain": [
       "array([0.31670063, 0.27233367, 0.22551055, 0.12804524, 0.04985297,\n",
       "       0.00755695])"
      ]
     },
     "execution_count": 338,
     "metadata": {},
     "output_type": "execute_result"
    }
   ],
   "source": [
    "ax=a0[0]*cx\n",
    "g=math.e**ax\n",
    "p=g/sum(g)\n",
    "p"
   ]
  },
  {
   "cell_type": "code",
   "execution_count": 339,
   "id": "df3e6b21",
   "metadata": {},
   "outputs": [
    {
     "data": {
      "text/plain": [
       "10.382948539968202"
      ]
     },
     "execution_count": 339,
     "metadata": {},
     "output_type": "execute_result"
    }
   ],
   "source": [
    "px=cx*p\n",
    "s=sum(px)\n",
    "s"
   ]
  },
  {
   "cell_type": "code",
   "execution_count": 340,
   "id": "ac4b89f7",
   "metadata": {},
   "outputs": [
    {
     "name": "stdout",
     "output_type": "stream",
     "text": [
      "actual Mean:10.3828\n",
      "observed Mean:10.382948539968202\n",
      "The difference between\n",
      "observed mean & estimated mean\n",
      "(loss value):0.0001485399682028543\n"
     ]
    }
   ],
   "source": [
    "print(f'actual Mean:{mean}')\n",
    "print(f'observed Mean:{s}')\n",
    "print(f'The difference between\\nobserved mean & estimated mean\\n(loss value):{abs(mean-s)}')"
   ]
  },
  {
   "cell_type": "markdown",
   "id": "fa567d5b",
   "metadata": {},
   "source": [
    "Verification"
   ]
  },
  {
   "cell_type": "code",
   "execution_count": 341,
   "id": "0bdd893e",
   "metadata": {},
   "outputs": [],
   "source": [
    "x=np.arange(-5,1,0.01)\n",
    "y=[]\n",
    "for i in x:\n",
    "    y.append(fnc(i))"
   ]
  },
  {
   "cell_type": "code",
   "execution_count": 342,
   "id": "1b016095",
   "metadata": {},
   "outputs": [
    {
     "data": {
      "text/plain": [
       "[<matplotlib.lines.Line2D at 0x233d152ee80>]"
      ]
     },
     "execution_count": 342,
     "metadata": {},
     "output_type": "execute_result"
    },
    {
     "data": {
      "image/png": "[encoded data removed]",
      "text/plain": [
       "<Figure size 432x288 with 1 Axes>"
      ]
     },
     "metadata": {
      "needs_background": "light"
     },
     "output_type": "display_data"
    }
   ],
   "source": [
    "X_Y_Spline = make_interp_spline(x, y)\n",
    "X_ = np.linspace(x.min(), x.max(), 500)\n",
    "Y_ = X_Y_Spline(X_)\n",
    "plt.plot(X_, Y_)\n",
    "plt.plot(a0[0],fnc(a0[0]),'r+')"
   ]
  }
 ],
 "metadata": {
  "kernelspec": {
   "display_name": "Python 3 (ipykernel)",
   "language": "python",
   "name": "python3"
  },
  "language_info": {
   "codemirror_mode": {
    "name": "ipython",
    "version": 3
   },
   "file_extension": ".py",
   "mimetype": "text/x-python",
   "name": "python",
   "nbconvert_exporter": "python",
   "pygments_lexer": "ipython3",
   "version": "3.9.7"
  }
 },
 "nbformat": 4,
 "nbformat_minor": 5
}
