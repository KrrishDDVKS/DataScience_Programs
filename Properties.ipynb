{
 "cells": [
  {
   "cell_type": "markdown",
   "id": "62e171cb",
   "metadata": {},
   "source": [
    "using pandas Data Frame"
   ]
  },
  {
   "cell_type": "code",
   "execution_count": 63,
   "id": "34a5b322",
   "metadata": {},
   "outputs": [
    {
     "data": {
      "text/html": [
       "<div>\n",
       "<style scoped>\n",
       "    .dataframe tbody tr th:only-of-type {\n",
       "        vertical-align: middle;\n",
       "    }\n",
       "\n",
       "    .dataframe tbody tr th {\n",
       "        vertical-align: top;\n",
       "    }\n",
       "\n",
       "    .dataframe thead th {\n",
       "        text-align: right;\n",
       "    }\n",
       "</style>\n",
       "<table border=\"1\" class=\"dataframe\">\n",
       "  <thead>\n",
       "    <tr style=\"text-align: right;\">\n",
       "      <th></th>\n",
       "      <th>0</th>\n",
       "    </tr>\n",
       "  </thead>\n",
       "  <tbody>\n",
       "    <tr>\n",
       "      <th>count</th>\n",
       "      <td>3.000000</td>\n",
       "    </tr>\n",
       "    <tr>\n",
       "      <th>mean</th>\n",
       "      <td>1.333333</td>\n",
       "    </tr>\n",
       "    <tr>\n",
       "      <th>std</th>\n",
       "      <td>0.577350</td>\n",
       "    </tr>\n",
       "    <tr>\n",
       "      <th>min</th>\n",
       "      <td>1.000000</td>\n",
       "    </tr>\n",
       "    <tr>\n",
       "      <th>25%</th>\n",
       "      <td>1.000000</td>\n",
       "    </tr>\n",
       "    <tr>\n",
       "      <th>50%</th>\n",
       "      <td>1.000000</td>\n",
       "    </tr>\n",
       "    <tr>\n",
       "      <th>75%</th>\n",
       "      <td>1.500000</td>\n",
       "    </tr>\n",
       "    <tr>\n",
       "      <th>max</th>\n",
       "      <td>2.000000</td>\n",
       "    </tr>\n",
       "  </tbody>\n",
       "</table>\n",
       "</div>"
      ],
      "text/plain": [
       "              0\n",
       "count  3.000000\n",
       "mean   1.333333\n",
       "std    0.577350\n",
       "min    1.000000\n",
       "25%    1.000000\n",
       "50%    1.000000\n",
       "75%    1.500000\n",
       "max    2.000000"
      ]
     },
     "execution_count": 63,
     "metadata": {},
     "output_type": "execute_result"
    }
   ],
   "source": [
    "import pandas as pd\n",
    "a=[1,2,1]\n",
    "a=pd.DataFrame(a)\n",
    "d=a.describe()\n",
    "d"
   ]
  },
  {
   "cell_type": "code",
   "execution_count": 64,
   "id": "490af12c",
   "metadata": {},
   "outputs": [
    {
     "name": "stdout",
     "output_type": "stream",
     "text": [
      "mean: 1.3333333333333333,\n",
      "standard Deviation:0.5773502691896257,\n",
      "variance:0.3333333333333333\n"
     ]
    }
   ],
   "source": [
    "v=(d.loc['std'])**2\n",
    "print(f\"mean: {d.loc['mean'][0]},\\nstandard Deviation:{d.loc['std'][0]},\\nvariance:{v[0]}\")"
   ]
  },
  {
   "cell_type": "markdown",
   "id": "b1e633c7",
   "metadata": {},
   "source": [
    "Using Numpy Libraries"
   ]
  },
  {
   "cell_type": "code",
   "execution_count": 65,
   "id": "6913f3af",
   "metadata": {},
   "outputs": [
    {
     "name": "stdout",
     "output_type": "stream",
     "text": [
      "mean: 1.3333333333333333,\n",
      "standard Deviation:0.5773502691896257,\n",
      "variance:0.3333333333333333\n"
     ]
    }
   ],
   "source": [
    "a=[1,2,1]\n",
    "m=sum(a)/len(a)\n",
    "n=np.array(a)\n",
    "v=((n-[m]*len(a))**2).sum()/(len(a)-1)\n",
    "std=v**.5\n",
    "print(f\"mean: {m},\\nstandard Deviation:{std},\\nvariance:{v}\")"
   ]
  },
  {
   "cell_type": "markdown",
   "id": "8b795848",
   "metadata": {},
   "source": [
    "Without using any Libraries"
   ]
  },
  {
   "cell_type": "code",
   "execution_count": 66,
   "id": "0c27ee9c",
   "metadata": {},
   "outputs": [],
   "source": [
    "a=[1,2,1]\n",
    "def standard_deviation(a):\n",
    "    s=0\n",
    "    m=sum(a)/len(a)\n",
    "    for i in a:\n",
    "        s+=(i-m)**2\n",
    "    v=s/(len(a)-1)\n",
    "    std=v**.5\n",
    "    print(f\"mean: {m},\\nstandard Deviation:{std},\\nvariance:{v}\")"
   ]
  },
  {
   "cell_type": "code",
   "execution_count": 67,
   "id": "d17b34e0",
   "metadata": {},
   "outputs": [
    {
     "name": "stdout",
     "output_type": "stream",
     "text": [
      "mean: 1.3333333333333333,\n",
      "standard Deviation:0.5773502691896257,\n",
      "variance:0.3333333333333333\n"
     ]
    }
   ],
   "source": [
    "standard_deviation(a)"
   ]
  }
 ],
 "metadata": {
  "kernelspec": {
   "display_name": "Python 3 (ipykernel)",
   "language": "python",
   "name": "python3"
  },
  "language_info": {
   "codemirror_mode": {
    "name": "ipython",
    "version": 3
   },
   "file_extension": ".py",
   "mimetype": "text/x-python",
   "name": "python",
   "nbconvert_exporter": "python",
   "pygments_lexer": "ipython3",
   "version": "3.9.7"
  }
 },
 "nbformat": 4,
 "nbformat_minor": 5
}
